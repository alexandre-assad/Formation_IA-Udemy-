{
 "cells": [
  {
   "cell_type": "code",
   "execution_count": 1,
   "id": "4fc52ea9",
   "metadata": {},
   "outputs": [
    {
     "name": "stderr",
     "output_type": "stream",
     "text": [
      "C:\\Users\\yayas\\AppData\\Local\\Temp\\ipykernel_16416\\543081641.py:8: FutureWarning: The default value of regex will change from True to False in a future version. In addition, single character regular expressions will *not* be treated as literal strings when regex=True.\n",
      "  stripped_dollars = stripped_commas.str.replace('$',\"\")\n"
     ]
    }
   ],
   "source": [
    "import pandas as pd\n",
    "import numpy as np\n",
    "np.random.seed(1)\n",
    "\n",
    "Paris_listings = pd.read_csv(\"paris_airbnb.csv\")\n",
    "Paris_listings = Paris_listings.loc[np.random.permutation(len(Paris_listings))]\n",
    "stripped_commas = Paris_listings[\"price\"].str.replace(',',\"\")\n",
    "stripped_dollars = stripped_commas.str.replace('$',\"\")\n",
    "Paris_listings[\"price\"] = stripped_dollars.astype(\"float\")"
   ]
  },
  {
   "cell_type": "code",
   "execution_count": 2,
   "id": "90792355",
   "metadata": {},
   "outputs": [
    {
     "name": "stdout",
     "output_type": "stream",
     "text": [
      "<class 'pandas.core.frame.DataFrame'>\n",
      "Int64Index: 8000 entries, 4740 to 5157\n",
      "Data columns (total 19 columns):\n",
      " #   Column                Non-Null Count  Dtype  \n",
      "---  ------                --------------  -----  \n",
      " 0   host_response_rate    5000 non-null   object \n",
      " 1   host_acceptance_rate  0 non-null      float64\n",
      " 2   host_listings_count   7999 non-null   float64\n",
      " 3   latitude              8000 non-null   float64\n",
      " 4   longitude             8000 non-null   float64\n",
      " 5   city                  7997 non-null   object \n",
      " 6   zipcode               7930 non-null   object \n",
      " 7   state                 7977 non-null   object \n",
      " 8   accommodates          8000 non-null   int64  \n",
      " 9   room_type             8000 non-null   object \n",
      " 10  bedrooms              7976 non-null   float64\n",
      " 11  bathrooms             7942 non-null   float64\n",
      " 12  beds                  7986 non-null   float64\n",
      " 13  price                 8000 non-null   float64\n",
      " 14  cleaning_fee          6250 non-null   object \n",
      " 15  security_deposit      6320 non-null   object \n",
      " 16  minimum_nights        8000 non-null   int64  \n",
      " 17  maximum_nights        8000 non-null   int64  \n",
      " 18  number_of_reviews     8000 non-null   int64  \n",
      "dtypes: float64(8), int64(4), object(7)\n",
      "memory usage: 1.2+ MB\n",
      "None\n"
     ]
    }
   ],
   "source": [
    "print(Paris_listings.info()) "
   ]
  },
  {
   "cell_type": "code",
   "execution_count": 3,
   "id": "4e1bed51",
   "metadata": {},
   "outputs": [
    {
     "name": "stdout",
     "output_type": "stream",
     "text": [
      "accommodates            0\n",
      "bedrooms               24\n",
      "bathrooms              58\n",
      "beds                   14\n",
      "price                   0\n",
      "cleaning_fee         1750\n",
      "security_deposit     1680\n",
      "minimum_nights          0\n",
      "maximum_nights          0\n",
      "number_of_reviews       0\n",
      "dtype: int64\n"
     ]
    }
   ],
   "source": [
    "dop_columns = [\"room_type\",\"city\",\"state\",\"longitude\",\"latitude\",\"zipcode\",\"host_response_rate\",\"host_acceptance_rate\",\"host_listings_count\"]\n",
    "Paris_listings = Paris_listings.drop(dop_columns,axis = 1)\n",
    "print(Paris_listings.isnull().sum())"
   ]
  },
  {
   "cell_type": "code",
   "execution_count": 6,
   "id": "c81879b5",
   "metadata": {},
   "outputs": [
    {
     "name": "stdout",
     "output_type": "stream",
     "text": [
      "accommodates          0\n",
      "bedrooms             24\n",
      "bathrooms            58\n",
      "beds                 14\n",
      "price                 0\n",
      "minimum_nights        0\n",
      "maximum_nights        0\n",
      "number_of_reviews     0\n",
      "dtype: int64\n"
     ]
    }
   ],
   "source": [
    "drop_columns = [\"cleaning_fee\",\"security_deposit\"]\n",
    "Paris_listings = Paris_listings.drop(drop_columns,axis = 1)\n",
    "print(Paris_listings.isnull().sum())"
   ]
  },
  {
   "cell_type": "code",
   "execution_count": 8,
   "id": "e26ef4cb",
   "metadata": {},
   "outputs": [
    {
     "name": "stdout",
     "output_type": "stream",
     "text": [
      "accommodates         0\n",
      "bedrooms             0\n",
      "bathrooms            0\n",
      "beds                 0\n",
      "price                0\n",
      "minimum_nights       0\n",
      "maximum_nights       0\n",
      "number_of_reviews    0\n",
      "dtype: int64\n"
     ]
    }
   ],
   "source": [
    "drop_columns = [\"bedrooms\",\"bathrooms\",\"beds\"]\n",
    "Paris_listings = Paris_listings.dropna(axis = 0) #axis = 0 : ligne, axis = 1 : colonnes\n",
    "print(Paris_listings.isnull().sum())"
   ]
  },
  {
   "cell_type": "code",
   "execution_count": 9,
   "id": "462e2f0e",
   "metadata": {},
   "outputs": [
    {
     "data": {
      "text/html": [
       "<div>\n",
       "<style scoped>\n",
       "    .dataframe tbody tr th:only-of-type {\n",
       "        vertical-align: middle;\n",
       "    }\n",
       "\n",
       "    .dataframe tbody tr th {\n",
       "        vertical-align: top;\n",
       "    }\n",
       "\n",
       "    .dataframe thead th {\n",
       "        text-align: right;\n",
       "    }\n",
       "</style>\n",
       "<table border=\"1\" class=\"dataframe\">\n",
       "  <thead>\n",
       "    <tr style=\"text-align: right;\">\n",
       "      <th></th>\n",
       "      <th>accommodates</th>\n",
       "      <th>bedrooms</th>\n",
       "      <th>bathrooms</th>\n",
       "      <th>beds</th>\n",
       "      <th>price</th>\n",
       "      <th>minimum_nights</th>\n",
       "      <th>maximum_nights</th>\n",
       "      <th>number_of_reviews</th>\n",
       "    </tr>\n",
       "  </thead>\n",
       "  <tbody>\n",
       "    <tr>\n",
       "      <th>4740</th>\n",
       "      <td>4</td>\n",
       "      <td>1.0</td>\n",
       "      <td>1.0</td>\n",
       "      <td>2.0</td>\n",
       "      <td>65.0</td>\n",
       "      <td>2</td>\n",
       "      <td>1125</td>\n",
       "      <td>6</td>\n",
       "    </tr>\n",
       "    <tr>\n",
       "      <th>5606</th>\n",
       "      <td>3</td>\n",
       "      <td>2.0</td>\n",
       "      <td>1.5</td>\n",
       "      <td>2.0</td>\n",
       "      <td>98.0</td>\n",
       "      <td>5</td>\n",
       "      <td>1124</td>\n",
       "      <td>1</td>\n",
       "    </tr>\n",
       "    <tr>\n",
       "      <th>4824</th>\n",
       "      <td>2</td>\n",
       "      <td>0.0</td>\n",
       "      <td>1.0</td>\n",
       "      <td>1.0</td>\n",
       "      <td>65.0</td>\n",
       "      <td>10</td>\n",
       "      <td>1125</td>\n",
       "      <td>0</td>\n",
       "    </tr>\n",
       "    <tr>\n",
       "      <th>4205</th>\n",
       "      <td>2</td>\n",
       "      <td>1.0</td>\n",
       "      <td>1.0</td>\n",
       "      <td>1.0</td>\n",
       "      <td>45.0</td>\n",
       "      <td>5</td>\n",
       "      <td>1125</td>\n",
       "      <td>83</td>\n",
       "    </tr>\n",
       "    <tr>\n",
       "      <th>3228</th>\n",
       "      <td>3</td>\n",
       "      <td>1.0</td>\n",
       "      <td>1.0</td>\n",
       "      <td>2.0</td>\n",
       "      <td>65.0</td>\n",
       "      <td>5</td>\n",
       "      <td>365</td>\n",
       "      <td>5</td>\n",
       "    </tr>\n",
       "    <tr>\n",
       "      <th>2745</th>\n",
       "      <td>4</td>\n",
       "      <td>1.0</td>\n",
       "      <td>1.0</td>\n",
       "      <td>2.0</td>\n",
       "      <td>88.0</td>\n",
       "      <td>3</td>\n",
       "      <td>30</td>\n",
       "      <td>120</td>\n",
       "    </tr>\n",
       "  </tbody>\n",
       "</table>\n",
       "</div>"
      ],
      "text/plain": [
       "      accommodates  bedrooms  bathrooms  beds  price  minimum_nights  \\\n",
       "4740             4       1.0        1.0   2.0   65.0               2   \n",
       "5606             3       2.0        1.5   2.0   98.0               5   \n",
       "4824             2       0.0        1.0   1.0   65.0              10   \n",
       "4205             2       1.0        1.0   1.0   45.0               5   \n",
       "3228             3       1.0        1.0   2.0   65.0               5   \n",
       "2745             4       1.0        1.0   2.0   88.0               3   \n",
       "\n",
       "      maximum_nights  number_of_reviews  \n",
       "4740            1125                  6  \n",
       "5606            1124                  1  \n",
       "4824            1125                  0  \n",
       "4205            1125                 83  \n",
       "3228             365                  5  \n",
       "2745              30                120  "
      ]
     },
     "execution_count": 9,
     "metadata": {},
     "output_type": "execute_result"
    }
   ],
   "source": [
    "Paris_listings.head(6)"
   ]
  },
  {
   "cell_type": "code",
   "execution_count": 10,
   "id": "9c9835e9",
   "metadata": {},
   "outputs": [],
   "source": [
    "first_transformation = Paris_listings[\"maximum_nights\"] - Paris_listings[\"maximum_nights\"].mean()\n",
    "normalized_col = first_transformation / first_transformation.std()"
   ]
  },
  {
   "cell_type": "code",
   "execution_count": 12,
   "id": "7017f0bb",
   "metadata": {},
   "outputs": [
    {
     "name": "stdout",
     "output_type": "stream",
     "text": [
      "      accommodates  bedrooms  bathrooms     beds  price  minimum_nights  \\\n",
      "4740      0.503868 -0.296884  -0.293537  0.20531   65.0       -0.184601   \n",
      "5606     -0.131849  0.892605   0.843973  0.20531   98.0       -0.101183   \n",
      "4824     -0.767566 -1.486372  -0.293537 -0.64526   65.0        0.037847   \n",
      "\n",
      "      maximum_nights  number_of_reviews  \n",
      "4740        1.062858          -0.564545  \n",
      "5606        1.061018          -0.636924  \n",
      "4824        1.062858          -0.651400  \n"
     ]
    }
   ],
   "source": [
    "normalized_listings = (Paris_listings - Paris_listings.mean())/(Paris_listings.std())\n",
    "normalized_listings[\"price\"] = Paris_listings[\"price\"]\n",
    "print(normalized_listings.head(3))"
   ]
  },
  {
   "cell_type": "code",
   "execution_count": 19,
   "id": "75a5f247",
   "metadata": {},
   "outputs": [
    {
     "name": "stdout",
     "output_type": "stream",
     "text": [
      "0.6357172321498354\n"
     ]
    }
   ],
   "source": [
    "from scipy.spatial import distance\n",
    "first_fifth_distance = distance.euclidean(normalized_listings.iloc[0][[\"accommodates\",\"bedrooms\"]],normalized_listings.iloc[4][[\"accommodates\",\"bedrooms\"]])\n",
    "print(first_fifth_distance)"
   ]
  },
  {
   "cell_type": "code",
   "execution_count": 20,
   "id": "ee9ed03e",
   "metadata": {},
   "outputs": [],
   "source": [
    "from sklearn.neighbors import KNeighborsRegressor\n",
    "knn = KNeighborsRegressor(algorithm = \"brute\")"
   ]
  },
  {
   "cell_type": "code",
   "execution_count": null,
   "id": "1036e98d",
   "metadata": {},
   "outputs": [],
   "source": [
    "tain_df = normalized_listings.iloc[0:6000]\n",
    "test_df = normalized_listings.iloc[6000:]\n",
    "\n",
    "#Objet de type matrice des 2 colonnes\n",
    "train_features = train_df[[\"accommodates\",\"bedrooms\"]]\n",
    "\n",
    "#Objet list cible\n",
    "train_target = train_df[\"price\"]\n",
    "\n",
    "knn.fit(train_feature,train_target)"
   ]
  }
 ],
 "metadata": {
  "kernelspec": {
   "display_name": "Python 3 (ipykernel)",
   "language": "python",
   "name": "python3"
  },
  "language_info": {
   "codemirror_mode": {
    "name": "ipython",
    "version": 3
   },
   "file_extension": ".py",
   "mimetype": "text/x-python",
   "name": "python",
   "nbconvert_exporter": "python",
   "pygments_lexer": "ipython3",
   "version": "3.10.10"
  }
 },
 "nbformat": 4,
 "nbformat_minor": 5
}
