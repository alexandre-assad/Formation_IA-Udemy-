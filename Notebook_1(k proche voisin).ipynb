{
 "cells": [
  {
   "cell_type": "code",
   "execution_count": 8,
   "id": "f45f5dcf",
   "metadata": {},
   "outputs": [
    {
     "name": "stderr",
     "output_type": "stream",
     "text": [
      "C:\\Users\\yayas\\AppData\\Local\\Temp\\ipykernel_12724\\3902798558.py:10: FutureWarning: The default value of regex will change from True to False in a future version. In addition, single character regular expressions will *not* be treated as literal strings when regex=True.\n",
      "  stripped_dollars = stripped_commas.str.replace('$',\"\")\n"
     ]
    }
   ],
   "source": [
    "import pandas as pd\n",
    "import numpy as np\n",
    "pd.options.mode.chained_assignment = None\n",
    "Paris_listings = pd.read_csv(\"paris_airbnb.csv\")\n",
    "\n",
    "np.random.seed(1)\n",
    "Paris_listings = Paris_listings.loc[np.random.permutation(len(Paris_listings))]\n",
    "\n",
    "stripped_commas = Paris_listings[\"price\"].str.replace(',',\"\")\n",
    "stripped_dollars = stripped_commas.str.replace('$',\"\")\n",
    "Paris_listings[\"price\"] = stripped_dollars.astype(\"float\")\n",
    "\n",
    "set_training = Paris_listings.iloc[0:6000]\n",
    "set_test = Paris_listings.iloc[6000:]\n",
    "\n",
    "def test_predict_price (new_listing): \n",
    "    temp_df = set_training.copy()\n",
    "    temp_df[\"distance\"] = temp_df[\"accommodates\"].apply(lambda x: np.abs(x-new_listing))\n",
    "    temp_df = temp_df.sort_values(\"distance\")\n",
    "    mean_price = temp_df.iloc[0:10][\"price\"].mean()\n",
    "    return mean_price\n",
    "\n"
   ]
  },
  {
   "cell_type": "code",
   "execution_count": 10,
   "id": "bcd45a6e",
   "metadata": {},
   "outputs": [],
   "source": [
    "set_test[\"predicted_price\"] = set_test[\"accommodates\"].apply(lambda x :test_predict_price(x))\n"
   ]
  },
  {
   "cell_type": "code",
   "execution_count": 15,
   "id": "2745a719",
   "metadata": {},
   "outputs": [
    {
     "name": "stdout",
     "output_type": "stream",
     "text": [
      "6770.38559\n"
     ]
    }
   ],
   "source": [
    "set_test['error_square'] = np.absolute(set_test[\"predicted_price\"]- set_test[\"price\"])**2\n",
    "mse = set_test[\"error_square\"].mean()\n",
    "print(mse)"
   ]
  },
  {
   "cell_type": "code",
   "execution_count": 20,
   "id": "ea03aeca",
   "metadata": {},
   "outputs": [
    {
     "name": "stdout",
     "output_type": "stream",
     "text": [
      "82.28235284676782\n"
     ]
    }
   ],
   "source": [
    "def test_predict_price_bed (new_listing): \n",
    "    temp_df = set_training.copy()\n",
    "    temp_df[\"distance\"] = temp_df[\"bedrooms\"].apply(lambda x: np.abs(x-new_listing))\n",
    "    temp_df = temp_df.sort_values(\"distance\")\n",
    "    mean_price = temp_df.iloc[0:10][\"price\"].mean()\n",
    "    return mean_price\n",
    "\n",
    "set_test[\"predicted_price_bedrooms\"] =set_test[\"bedrooms\"].apply(lambda x :test_predict_price_bed(x))\n"
   ]
  },
  {
   "cell_type": "code",
   "execution_count": 21,
   "id": "7a5fa149",
   "metadata": {},
   "outputs": [
    {
     "name": "stdout",
     "output_type": "stream",
     "text": [
      "82.28235284676782\n"
     ]
    }
   ],
   "source": [
    "set_test['error_square_bed'] = np.absolute(set_test[\"predicted_price_bedrooms\"]- set_test[\"price\"])**2\n",
    "mse_bed = set_test[\"error_square_bed\"].mean()\n",
    "rmse_bed = mse ** (1/2)\n",
    "print(rmse_bed)\n"
   ]
  },
  {
   "cell_type": "code",
   "execution_count": 36,
   "id": "4f693e89",
   "metadata": {},
   "outputs": [
    {
     "name": "stdout",
     "output_type": "stream",
     "text": [
      "7.5 7.905694150420948 62.5 235.82302686548658\n"
     ]
    }
   ],
   "source": []
  }
 ],
 "metadata": {
  "kernelspec": {
   "display_name": "Python 3 (ipykernel)",
   "language": "python",
   "name": "python3"
  },
  "language_info": {
   "codemirror_mode": {
    "name": "ipython",
    "version": 3
   },
   "file_extension": ".py",
   "mimetype": "text/x-python",
   "name": "python",
   "nbconvert_exporter": "python",
   "pygments_lexer": "ipython3",
   "version": "3.10.10"
  }
 },
 "nbformat": 4,
 "nbformat_minor": 5
}
