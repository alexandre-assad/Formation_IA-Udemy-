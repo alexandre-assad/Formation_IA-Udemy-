{
 "cells": [
  {
   "cell_type": "code",
   "execution_count": 1,
   "id": "4fc52ea9",
   "metadata": {},
   "outputs": [
    {
     "name": "stderr",
     "output_type": "stream",
     "text": [
      "C:\\Users\\yayas\\AppData\\Local\\Temp\\ipykernel_16416\\543081641.py:8: FutureWarning: The default value of regex will change from True to False in a future version. In addition, single character regular expressions will *not* be treated as literal strings when regex=True.\n",
      "  stripped_dollars = stripped_commas.str.replace('$',\"\")\n"
     ]
    }
   ],
   "source": [
    "import pandas as pd\n",
    "import numpy as np\n",
    "np.random.seed(1)\n",
    "\n",
    "Paris_listings = pd.read_csv(\"paris_airbnb.csv\")\n",
    "Paris_listings = Paris_listings.loc[np.random.permutation(len(Paris_listings))]\n",
    "stripped_commas = Paris_listings[\"price\"].str.replace(',',\"\")\n",
    "stripped_dollars = stripped_commas.str.replace('$',\"\")\n",
    "Paris_listings[\"price\"] = stripped_dollars.astype(\"float\")"
   ]
  },
  {
   "cell_type": "code",
   "execution_count": 2,
   "id": "90792355",
   "metadata": {},
   "outputs": [
    {
     "name": "stdout",
     "output_type": "stream",
     "text": [
      "<class 'pandas.core.frame.DataFrame'>\n",
      "Int64Index: 8000 entries, 4740 to 5157\n",
      "Data columns (total 19 columns):\n",
      " #   Column                Non-Null Count  Dtype  \n",
      "---  ------                --------------  -----  \n",
      " 0   host_response_rate    5000 non-null   object \n",
      " 1   host_acceptance_rate  0 non-null      float64\n",
      " 2   host_listings_count   7999 non-null   float64\n",
      " 3   latitude              8000 non-null   float64\n",
      " 4   longitude             8000 non-null   float64\n",
      " 5   city                  7997 non-null   object \n",
      " 6   zipcode               7930 non-null   object \n",
      " 7   state                 7977 non-null   object \n",
      " 8   accommodates          8000 non-null   int64  \n",
      " 9   room_type             8000 non-null   object \n",
      " 10  bedrooms              7976 non-null   float64\n",
      " 11  bathrooms             7942 non-null   float64\n",
      " 12  beds                  7986 non-null   float64\n",
      " 13  price                 8000 non-null   float64\n",
      " 14  cleaning_fee          6250 non-null   object \n",
      " 15  security_deposit      6320 non-null   object \n",
      " 16  minimum_nights        8000 non-null   int64  \n",
      " 17  maximum_nights        8000 non-null   int64  \n",
      " 18  number_of_reviews     8000 non-null   int64  \n",
      "dtypes: float64(8), int64(4), object(7)\n",
      "memory usage: 1.2+ MB\n",
      "None\n"
     ]
    }
   ],
   "source": [
    "print(Paris_listings.info()) "
   ]
  },
  {
   "cell_type": "code",
   "execution_count": 3,
   "id": "4e1bed51",
   "metadata": {},
   "outputs": [
    {
     "name": "stdout",
     "output_type": "stream",
     "text": [
      "accommodates            0\n",
      "bedrooms               24\n",
      "bathrooms              58\n",
      "beds                   14\n",
      "price                   0\n",
      "cleaning_fee         1750\n",
      "security_deposit     1680\n",
      "minimum_nights          0\n",
      "maximum_nights          0\n",
      "number_of_reviews       0\n",
      "dtype: int64\n"
     ]
    }
   ],
   "source": [
    "dop_columns = [\"room_type\",\"city\",\"state\",\"longitude\",\"latitude\",\"zipcode\",\"host_response_rate\",\"host_acceptance_rate\",\"host_listings_count\"]\n",
    "Paris_listings = Paris_listings.drop(dop_columns,axis = 1)\n",
    "print(Paris_listings.isnull().sum())"
   ]
  },
  {
   "cell_type": "code",
   "execution_count": 6,
   "id": "2cedd8cb",
   "metadata": {},
   "outputs": [
    {
     "name": "stdout",
     "output_type": "stream",
     "text": [
      "accommodates          0\n",
      "bedrooms             24\n",
      "bathrooms            58\n",
      "beds                 14\n",
      "price                 0\n",
      "minimum_nights        0\n",
      "maximum_nights        0\n",
      "number_of_reviews     0\n",
      "dtype: int64\n"
     ]
    }
   ],
   "source": [
    "drop_columns = [\"cleaning_fee\",\"security_deposit\"]\n",
    "Paris_listings = Paris_listings.drop(drop_columns,axis = 1)\n",
    "print(Paris_listings.isnull().sum())"
   ]
  },
  {
   "cell_type": "code",
   "execution_count": 8,
   "id": "7fc25b1f",
   "metadata": {},
   "outputs": [
    {
     "name": "stdout",
     "output_type": "stream",
     "text": [
      "accommodates         0\n",
      "bedrooms             0\n",
      "bathrooms            0\n",
      "beds                 0\n",
      "price                0\n",
      "minimum_nights       0\n",
      "maximum_nights       0\n",
      "number_of_reviews    0\n",
      "dtype: int64\n"
     ]
    }
   ],
   "source": [
    "drop_columns = [\"bedrooms\",\"bathrooms\",\"beds\"]\n",
    "Paris_listings = Paris_listings.dropna(axis = 0) #axis = 0 : ligne, axis = 1 : colonnes\n",
    "print(Paris_listings.isnull().sum())"
   ]
  },
  {
   "cell_type": "code",
   "execution_count": 9,
   "id": "c6bf146c",
   "metadata": {},
   "outputs": [
    {
     "data": {
      "text/html": [
       "<div>\n",
       "<style scoped>\n",
       "    .dataframe tbody tr th:only-of-type {\n",
       "        vertical-align: middle;\n",
       "    }\n",
       "\n",
       "    .dataframe tbody tr th {\n",
       "        vertical-align: top;\n",
       "    }\n",
       "\n",
       "    .dataframe thead th {\n",
       "        text-align: right;\n",
       "    }\n",
       "</style>\n",
       "<table border=\"1\" class=\"dataframe\">\n",
       "  <thead>\n",
       "    <tr style=\"text-align: right;\">\n",
       "      <th></th>\n",
       "      <th>accommodates</th>\n",
       "      <th>bedrooms</th>\n",
       "      <th>bathrooms</th>\n",
       "      <th>beds</th>\n",
       "      <th>price</th>\n",
       "      <th>minimum_nights</th>\n",
       "      <th>maximum_nights</th>\n",
       "      <th>number_of_reviews</th>\n",
       "    </tr>\n",
       "  </thead>\n",
       "  <tbody>\n",
       "    <tr>\n",
       "      <th>4740</th>\n",
       "      <td>4</td>\n",
       "      <td>1.0</td>\n",
       "      <td>1.0</td>\n",
       "      <td>2.0</td>\n",
       "      <td>65.0</td>\n",
       "      <td>2</td>\n",
       "      <td>1125</td>\n",
       "      <td>6</td>\n",
       "    </tr>\n",
       "    <tr>\n",
       "      <th>5606</th>\n",
       "      <td>3</td>\n",
       "      <td>2.0</td>\n",
       "      <td>1.5</td>\n",
       "      <td>2.0</td>\n",
       "      <td>98.0</td>\n",
       "      <td>5</td>\n",
       "      <td>1124</td>\n",
       "      <td>1</td>\n",
       "    </tr>\n",
       "    <tr>\n",
       "      <th>4824</th>\n",
       "      <td>2</td>\n",
       "      <td>0.0</td>\n",
       "      <td>1.0</td>\n",
       "      <td>1.0</td>\n",
       "      <td>65.0</td>\n",
       "      <td>10</td>\n",
       "      <td>1125</td>\n",
       "      <td>0</td>\n",
       "    </tr>\n",
       "    <tr>\n",
       "      <th>4205</th>\n",
       "      <td>2</td>\n",
       "      <td>1.0</td>\n",
       "      <td>1.0</td>\n",
       "      <td>1.0</td>\n",
       "      <td>45.0</td>\n",
       "      <td>5</td>\n",
       "      <td>1125</td>\n",
       "      <td>83</td>\n",
       "    </tr>\n",
       "    <tr>\n",
       "      <th>3228</th>\n",
       "      <td>3</td>\n",
       "      <td>1.0</td>\n",
       "      <td>1.0</td>\n",
       "      <td>2.0</td>\n",
       "      <td>65.0</td>\n",
       "      <td>5</td>\n",
       "      <td>365</td>\n",
       "      <td>5</td>\n",
       "    </tr>\n",
       "    <tr>\n",
       "      <th>2745</th>\n",
       "      <td>4</td>\n",
       "      <td>1.0</td>\n",
       "      <td>1.0</td>\n",
       "      <td>2.0</td>\n",
       "      <td>88.0</td>\n",
       "      <td>3</td>\n",
       "      <td>30</td>\n",
       "      <td>120</td>\n",
       "    </tr>\n",
       "  </tbody>\n",
       "</table>\n",
       "</div>"
      ],
      "text/plain": [
       "      accommodates  bedrooms  bathrooms  beds  price  minimum_nights  \\\n",
       "4740             4       1.0        1.0   2.0   65.0               2   \n",
       "5606             3       2.0        1.5   2.0   98.0               5   \n",
       "4824             2       0.0        1.0   1.0   65.0              10   \n",
       "4205             2       1.0        1.0   1.0   45.0               5   \n",
       "3228             3       1.0        1.0   2.0   65.0               5   \n",
       "2745             4       1.0        1.0   2.0   88.0               3   \n",
       "\n",
       "      maximum_nights  number_of_reviews  \n",
       "4740            1125                  6  \n",
       "5606            1124                  1  \n",
       "4824            1125                  0  \n",
       "4205            1125                 83  \n",
       "3228             365                  5  \n",
       "2745              30                120  "
      ]
     },
     "execution_count": 9,
     "metadata": {},
     "output_type": "execute_result"
    }
   ],
   "source": [
    "Paris_listings.head(6)"
   ]
  },
  {
   "cell_type": "code",
   "execution_count": 10,
   "id": "eea996df",
   "metadata": {},
   "outputs": [],
   "source": [
    "first_transformation = Paris_listings[\"maximum_nights\"] - Paris_listings[\"maximum_nights\"].mean()\n",
    "normalized_col = first_transformation / first_transformation.std()"
   ]
  },
  {
   "cell_type": "code",
   "execution_count": 12,
   "id": "21403208",
   "metadata": {},
   "outputs": [
    {
     "name": "stdout",
     "output_type": "stream",
     "text": [
      "      accommodates  bedrooms  bathrooms     beds  price  minimum_nights  \\\n",
      "4740      0.503868 -0.296884  -0.293537  0.20531   65.0       -0.184601   \n",
      "5606     -0.131849  0.892605   0.843973  0.20531   98.0       -0.101183   \n",
      "4824     -0.767566 -1.486372  -0.293537 -0.64526   65.0        0.037847   \n",
      "\n",
      "      maximum_nights  number_of_reviews  \n",
      "4740        1.062858          -0.564545  \n",
      "5606        1.061018          -0.636924  \n",
      "4824        1.062858          -0.651400  \n"
     ]
    }
   ],
   "source": [
    "normalized_listings = (Paris_listings - Paris_listings.mean())/(Paris_listings.std())\n",
    "normalized_listings[\"price\"] = Paris_listings[\"price\"]\n",
    "print(normalized_listings.head(3))"
   ]
  },
  {
   "cell_type": "code",
   "execution_count": 19,
   "id": "4a4ae356",
   "metadata": {},
   "outputs": [
    {
     "name": "stdout",
     "output_type": "stream",
     "text": [
      "0.6357172321498354\n"
     ]
    }
   ],
   "source": [
    "from scipy.spatial import distance\n",
    "first_fifth_distance = distance.euclidean(normalized_listings.iloc[0][[\"accommodates\",\"bedrooms\"]],normalized_listings.iloc[4][[\"accommodates\",\"bedrooms\"]])\n",
    "print(first_fifth_distance)"
   ]
  },
  {
   "cell_type": "code",
   "execution_count": 20,
   "id": "7463dd7e",
   "metadata": {},
   "outputs": [],
   "source": [
    "from sklearn.neighbors import KNeighborsRegressor\n",
    "knn = KNeighborsRegressor(algorithm = \"brute\")"
   ]
  },
  {
   "cell_type": "code",
   "execution_count": 23,
   "id": "b6221349",
   "metadata": {},
   "outputs": [
    {
     "data": {
      "text/html": [
       "<style>#sk-container-id-1 {color: black;background-color: white;}#sk-container-id-1 pre{padding: 0;}#sk-container-id-1 div.sk-toggleable {background-color: white;}#sk-container-id-1 label.sk-toggleable__label {cursor: pointer;display: block;width: 100%;margin-bottom: 0;padding: 0.3em;box-sizing: border-box;text-align: center;}#sk-container-id-1 label.sk-toggleable__label-arrow:before {content: \"▸\";float: left;margin-right: 0.25em;color: #696969;}#sk-container-id-1 label.sk-toggleable__label-arrow:hover:before {color: black;}#sk-container-id-1 div.sk-estimator:hover label.sk-toggleable__label-arrow:before {color: black;}#sk-container-id-1 div.sk-toggleable__content {max-height: 0;max-width: 0;overflow: hidden;text-align: left;background-color: #f0f8ff;}#sk-container-id-1 div.sk-toggleable__content pre {margin: 0.2em;color: black;border-radius: 0.25em;background-color: #f0f8ff;}#sk-container-id-1 input.sk-toggleable__control:checked~div.sk-toggleable__content {max-height: 200px;max-width: 100%;overflow: auto;}#sk-container-id-1 input.sk-toggleable__control:checked~label.sk-toggleable__label-arrow:before {content: \"▾\";}#sk-container-id-1 div.sk-estimator input.sk-toggleable__control:checked~label.sk-toggleable__label {background-color: #d4ebff;}#sk-container-id-1 div.sk-label input.sk-toggleable__control:checked~label.sk-toggleable__label {background-color: #d4ebff;}#sk-container-id-1 input.sk-hidden--visually {border: 0;clip: rect(1px 1px 1px 1px);clip: rect(1px, 1px, 1px, 1px);height: 1px;margin: -1px;overflow: hidden;padding: 0;position: absolute;width: 1px;}#sk-container-id-1 div.sk-estimator {font-family: monospace;background-color: #f0f8ff;border: 1px dotted black;border-radius: 0.25em;box-sizing: border-box;margin-bottom: 0.5em;}#sk-container-id-1 div.sk-estimator:hover {background-color: #d4ebff;}#sk-container-id-1 div.sk-parallel-item::after {content: \"\";width: 100%;border-bottom: 1px solid gray;flex-grow: 1;}#sk-container-id-1 div.sk-label:hover label.sk-toggleable__label {background-color: #d4ebff;}#sk-container-id-1 div.sk-serial::before {content: \"\";position: absolute;border-left: 1px solid gray;box-sizing: border-box;top: 0;bottom: 0;left: 50%;z-index: 0;}#sk-container-id-1 div.sk-serial {display: flex;flex-direction: column;align-items: center;background-color: white;padding-right: 0.2em;padding-left: 0.2em;position: relative;}#sk-container-id-1 div.sk-item {position: relative;z-index: 1;}#sk-container-id-1 div.sk-parallel {display: flex;align-items: stretch;justify-content: center;background-color: white;position: relative;}#sk-container-id-1 div.sk-item::before, #sk-container-id-1 div.sk-parallel-item::before {content: \"\";position: absolute;border-left: 1px solid gray;box-sizing: border-box;top: 0;bottom: 0;left: 50%;z-index: -1;}#sk-container-id-1 div.sk-parallel-item {display: flex;flex-direction: column;z-index: 1;position: relative;background-color: white;}#sk-container-id-1 div.sk-parallel-item:first-child::after {align-self: flex-end;width: 50%;}#sk-container-id-1 div.sk-parallel-item:last-child::after {align-self: flex-start;width: 50%;}#sk-container-id-1 div.sk-parallel-item:only-child::after {width: 0;}#sk-container-id-1 div.sk-dashed-wrapped {border: 1px dashed gray;margin: 0 0.4em 0.5em 0.4em;box-sizing: border-box;padding-bottom: 0.4em;background-color: white;}#sk-container-id-1 div.sk-label label {font-family: monospace;font-weight: bold;display: inline-block;line-height: 1.2em;}#sk-container-id-1 div.sk-label-container {text-align: center;}#sk-container-id-1 div.sk-container {/* jupyter's `normalize.less` sets `[hidden] { display: none; }` but bootstrap.min.css set `[hidden] { display: none !important; }` so we also need the `!important` here to be able to override the default hidden behavior on the sphinx rendered scikit-learn.org. See: https://github.com/scikit-learn/scikit-learn/issues/21755 */display: inline-block !important;position: relative;}#sk-container-id-1 div.sk-text-repr-fallback {display: none;}</style><div id=\"sk-container-id-1\" class=\"sk-top-container\"><div class=\"sk-text-repr-fallback\"><pre>KNeighborsRegressor(algorithm=&#x27;brute&#x27;)</pre><b>In a Jupyter environment, please rerun this cell to show the HTML representation or trust the notebook. <br />On GitHub, the HTML representation is unable to render, please try loading this page with nbviewer.org.</b></div><div class=\"sk-container\" hidden><div class=\"sk-item\"><div class=\"sk-estimator sk-toggleable\"><input class=\"sk-toggleable__control sk-hidden--visually\" id=\"sk-estimator-id-1\" type=\"checkbox\" checked><label for=\"sk-estimator-id-1\" class=\"sk-toggleable__label sk-toggleable__label-arrow\">KNeighborsRegressor</label><div class=\"sk-toggleable__content\"><pre>KNeighborsRegressor(algorithm=&#x27;brute&#x27;)</pre></div></div></div></div></div>"
      ],
      "text/plain": [
       "KNeighborsRegressor(algorithm='brute')"
      ]
     },
     "execution_count": 23,
     "metadata": {},
     "output_type": "execute_result"
    }
   ],
   "source": [
    "train_df = normalized_listings.iloc[0:6000]\n",
    "test_df = normalized_listings.iloc[6000:]\n",
    "\n",
    "#Objet de type matrice des 2 colonnes\n",
    "train_features = train_df[[\"accommodates\",\"bedrooms\"]]\n",
    "\n",
    "#Objet list cible\n",
    "train_target = train_df[\"price\"]\n",
    "\n",
    "knn.fit(train_features,train_target)"
   ]
  },
  {
   "cell_type": "code",
   "execution_count": 26,
   "id": "d4beec04",
   "metadata": {},
   "outputs": [
    {
     "name": "stdout",
     "output_type": "stream",
     "text": [
      "[ 60.   81.8  81.8 ...  60.  121.2  81.8]\n"
     ]
    }
   ],
   "source": [
    "predictions = knn.predict(test_df[[\"accommodates\",\"bedrooms\"]])\n",
    "print(predictions)"
   ]
  },
  {
   "cell_type": "code",
   "execution_count": 33,
   "id": "34b07144",
   "metadata": {},
   "outputs": [
    {
     "name": "stdout",
     "output_type": "stream",
     "text": [
      "6238.268920187794 78.9827127932929\n"
     ]
    }
   ],
   "source": [
    "from sklearn.metrics import mean_squared_error\n",
    "\n",
    "two_features_mse = mean_squared_error(test_df[\"price\"],predictions,)\n",
    "two_features_rmse = np.sqrt(two_features_mse)\n",
    "print(two_features_mse,two_features_rmse)\n"
   ]
  },
  {
   "cell_type": "code",
   "execution_count": 36,
   "id": "6425d1a6",
   "metadata": {},
   "outputs": [
    {
     "name": "stdout",
     "output_type": "stream",
     "text": [
      "6471.841898800208\n",
      "80.4477588177583\n"
     ]
    }
   ],
   "source": [
    "\n",
    "\n",
    "features = [\"accommodates\",\"bedrooms\",\"number_of_reviews\",\"bathrooms\",\"beds\",\"minimum_nights\",\"maximum_nights\",\"number_of_reviews\"]\n",
    "knn.fit(train_df[features],train_df[\"price\"])\n",
    "four_predictions = knn.predict(test_df[features])\n",
    "four_mse =  mean_squared_error(test_df[\"price\"],four_predictions)\n",
    "four_rmse = np.sqrt(four_mse)\n",
    "\n",
    "print(four_mse)\n",
    "print(four_rmse)\n"
   ]
  }
 ],
 "metadata": {
  "kernelspec": {
   "display_name": "Python 3 (ipykernel)",
   "language": "python",
   "name": "python3"
  },
  "language_info": {
   "codemirror_mode": {
    "name": "ipython",
    "version": 3
   },
   "file_extension": ".py",
   "mimetype": "text/x-python",
   "name": "python",
   "nbconvert_exporter": "python",
   "pygments_lexer": "ipython3",
   "version": "3.10.10"
  }
 },
 "nbformat": 4,
 "nbformat_minor": 5
}
