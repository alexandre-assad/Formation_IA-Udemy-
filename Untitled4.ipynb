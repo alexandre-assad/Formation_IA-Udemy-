{
 "cells": [
  {
   "cell_type": "code",
   "execution_count": 1,
   "id": "8c0e4984",
   "metadata": {},
   "outputs": [
    {
     "name": "stderr",
     "output_type": "stream",
     "text": [
      "C:\\Users\\yayas\\AppData\\Local\\Temp\\ipykernel_10696\\2267798623.py:6: FutureWarning: The default value of regex will change from True to False in a future version. In addition, single character regular expressions will *not* be treated as literal strings when regex=True.\n",
      "  stripped_dollars = stripped_commas.str.replace('$',\"\")\n"
     ]
    }
   ],
   "source": [
    "import pandas as pd \n",
    "import numpy as np\n",
    "pd.options.mode.chained_assignment = None\n",
    "Paris_listings = pd.read_csv(\"paris_airbnb.csv\")\n",
    "stripped_commas = Paris_listings[\"price\"].str.replace(',',\"\")\n",
    "stripped_dollars = stripped_commas.str.replace('$',\"\")\n",
    "Paris_listings[\"price\"] = stripped_dollars.astype(\"float\")\n",
    "dop_columns = [\"cleaning_fee\",\"security_deposit\",\"room_type\",\"city\",\"state\",\"longitude\",\"latitude\",\"zipcode\",\"host_response_rate\",\"host_acceptance_rate\",\"host_listings_count\"]\n",
    "Paris_listings = Paris_listings.drop(dop_columns,axis = 1)\n",
    "Paris_listings = Paris_listings.dropna(axis = 0)\n",
    "split_one = Paris_listings.iloc[0:4000]\n",
    "split_two = Paris_listings.iloc[4000:]"
   ]
  },
  {
   "cell_type": "code",
   "execution_count": 2,
   "id": "3fbe4edd",
   "metadata": {},
   "outputs": [
    {
     "name": "stdout",
     "output_type": "stream",
     "text": [
      "103.6402032759841\n"
     ]
    }
   ],
   "source": [
    "from sklearn.neighbors import KNeighborsRegressor\n",
    "from sklearn.metrics import mean_squared_error\n",
    "\n",
    "train_one = split_one\n",
    "test_one = split_two\n",
    "train_two = split_two\n",
    "test_two = split_one\n",
    "\n",
    "knn = KNeighborsRegressor(n_neighbors=5,algorithm=\"auto\")\n",
    "knn.fit(train_one[[\"accommodates\"]],train_one[\"price\"])\n",
    "predictions = knn.predict(test_one[[\"accommodates\"]])\n",
    "mse = mean_squared_error(test_one['price'],predictions)\n",
    "iteration_one_rmse = np.sqrt(mse)\n",
    "\n",
    "knn = KNeighborsRegressor(n_neighbors=5,algorithm=\"auto\")\n",
    "knn.fit(train_two[[\"accommodates\"]],train_two[\"price\"])\n",
    "predictions = knn.predict(test_two[[\"accommodates\"]])\n",
    "mse = mean_squared_error(test_two['price'],predictions)\n",
    "iteration_two_rmse = np.sqrt(mse)\n",
    "\n",
    "avg_rmse = np.mean([iteration_one_rmse,iteration_two_rmse])\n",
    "print(avg_rmse)"
   ]
  },
  {
   "cell_type": "code",
   "execution_count": 3,
   "id": "e2057585",
   "metadata": {},
   "outputs": [
    {
     "name": "stdout",
     "output_type": "stream",
     "text": [
      "1    1600\n",
      "2    1600\n",
      "3    1600\n",
      "4    1600\n",
      "5    1517\n",
      "Name: fold, dtype: int64\n"
     ]
    }
   ],
   "source": [
    "Paris_listings[\"fold\"] = 0\n",
    "Paris_listings[\"fold\"].iloc[0:1600] = 1\n",
    "Paris_listings[\"fold\"].iloc[1600:3200] = 2\n",
    "Paris_listings[\"fold\"].iloc[3200:4800] = 3\n",
    "Paris_listings[\"fold\"].iloc[4800:6400] = 4\n",
    "Paris_listings[\"fold\"].iloc[6400:] = 5\n",
    "\n",
    "print(Paris_listings[\"fold\"].value_counts())"
   ]
  },
  {
   "cell_type": "code",
   "execution_count": 4,
   "id": "fc618bc6",
   "metadata": {},
   "outputs": [
    {
     "name": "stdout",
     "output_type": "stream",
     "text": [
      "93.8442735333382\n"
     ]
    }
   ],
   "source": [
    "knn = KNeighborsRegressor()\n",
    "train_iteration_one = Paris_listings[Paris_listings[\"fold\"] != 1]\n",
    "test_iteration_one = Paris_listings[Paris_listings[\"fold\"] == 1]\n",
    "knn.fit(train_iteration_one[[\"accommodates\"]],train_iteration_one[\"price\"])\n",
    "prediction = knn.predict(test_iteration_one[[\"accommodates\"]])\n",
    "test_iteration_one[\"predicted_price\"] = prediction\n",
    "iteration_one_rmse = np.sqrt(mean_squared_error(test_iteration_one[\"price\"],test_iteration_one[\"predicted_price\"]))\n",
    "print(iteration_one_rmse)"
   ]
  },
  {
   "cell_type": "code",
   "execution_count": 5,
   "id": "6a0a6b4b",
   "metadata": {},
   "outputs": [
    {
     "name": "stdout",
     "output_type": "stream",
     "text": [
      "98.3918061833774 [93.8442735333382, 86.20675031573803, 152.56144762029496, 77.1384124480145, 82.20814699950138]\n"
     ]
    }
   ],
   "source": [
    "def train_and_validate(df,fold):\n",
    "    knn = KNeighborsRegressor()\n",
    "    train_iteration_one = df[Paris_listings[\"fold\"] != fold]\n",
    "    test_iteration_one = df[Paris_listings[\"fold\"] == fold]\n",
    "    knn.fit(train_iteration_one[[\"accommodates\"]],train_iteration_one[\"price\"])\n",
    "    prediction = knn.predict(test_iteration_one[[\"accommodates\"]])\n",
    "    test_iteration_one[\"predicted_price\"] = prediction\n",
    "    iteration_one_rmse = np.sqrt(mean_squared_error(test_iteration_one[\"price\"],test_iteration_one[\"predicted_price\"]))\n",
    "    return iteration_one_rmse\n",
    "\n",
    "rsme = [train_and_validate(Paris_listings,1),train_and_validate(Paris_listings,2),train_and_validate(Paris_listings,3),train_and_validate(Paris_listings,4),train_and_validate(Paris_listings,5)]\n",
    "avg_rmse = np.mean(rsme)\n",
    "print(avg_rmse,rsme)"
   ]
  },
  {
   "cell_type": "code",
   "execution_count": 6,
   "id": "e3323b4c",
   "metadata": {},
   "outputs": [
    {
     "name": "stdout",
     "output_type": "stream",
     "text": [
      "[ 88.86809883 143.28044267  92.97145841  83.61804914  84.8949447 ]\n",
      "98.72659875179869\n"
     ]
    }
   ],
   "source": [
    "from sklearn.model_selection import KFold\n",
    "from sklearn.model_selection import cross_val_score\n",
    "kf = KFold(n_splits=5,shuffle=True,random_state=1)\n",
    "knn = KNeighborsRegressor()\n",
    "mses = cross_val_score(knn,Paris_listings[[\"accommodates\"]],Paris_listings[\"price\"],scoring=\"neg_mean_squared_error\",cv=kf)\n",
    "rmses = np.sqrt(np.absolute(mses))\n",
    "avg_rmse = np.mean(rmses)\n",
    "\n",
    "print(rmses)\n",
    "print(avg_rmse)"
   ]
  }
 ],
 "metadata": {
  "kernelspec": {
   "display_name": "Python 3 (ipykernel)",
   "language": "python",
   "name": "python3"
  },
  "language_info": {
   "codemirror_mode": {
    "name": "ipython",
    "version": 3
   },
   "file_extension": ".py",
   "mimetype": "text/x-python",
   "name": "python",
   "nbconvert_exporter": "python",
   "pygments_lexer": "ipython3",
   "version": "3.10.10"
  }
 },
 "nbformat": 4,
 "nbformat_minor": 5
}
